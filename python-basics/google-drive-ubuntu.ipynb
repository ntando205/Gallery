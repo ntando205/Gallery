{
  "cells": [
    {
      "cell_type": "markdown",
      "metadata": {
        "id": "view-in-github",
        "colab_type": "text"
      },
      "source": [
        "<a href=\"https://colab.research.google.com/github/ntando205/Gallery/blob/main/python-basics/google-drive-ubuntu.ipynb\" target=\"_parent\"><img src=\"https://colab.research.google.com/assets/colab-badge.svg\" alt=\"Open In Colab\"/></a>"
      ]
    },
    {
      "cell_type": "markdown",
      "metadata": {
        "id": "S1cUeDgmHOKz"
      },
      "source": [
        "# Google Drive with Ubuntu"
      ]
    },
    {
      "cell_type": "markdown",
      "metadata": {
        "id": "en9iNUkqHOK7"
      },
      "source": [
        "So far Google has not released an official API for Linux with Google Drive.\n",
        "\n",
        "This note illustrates how to mount Google Drive on Ubuntu using `ocamlfuse`.\n"
      ]
    },
    {
      "cell_type": "markdown",
      "metadata": {
        "id": "PFCp7nYYHOK8"
      },
      "source": [
        "## Install Ocamlfuse"
      ]
    },
    {
      "cell_type": "markdown",
      "metadata": {
        "id": "y_Lv4YdaHOK9"
      },
      "source": [
        "```\n",
        "$ sudo add-apt-repository ppa:alessandro-strada/ppa\n",
        "$ sudo apt-get update\n",
        "$ sudo apt-get install google-drive-ocamlfuse\n",
        "```"
      ]
    },
    {
      "cell_type": "markdown",
      "metadata": {
        "id": "K30-ZdLSHOK9"
      },
      "source": [
        "## Authorize Google Account on Ubuntu"
      ]
    },
    {
      "cell_type": "markdown",
      "metadata": {
        "id": "Y6Tc_9zcHOK-"
      },
      "source": [
        "```\n",
        "google-drive-ocamlfuse -id <User_id> -secret <secret>\n",
        "```"
      ]
    },
    {
      "cell_type": "markdown",
      "metadata": {
        "id": "f3SczMo5HOK-"
      },
      "source": [
        "Just follow the GUI instructions to allow Ubuntu to access the Google Drive."
      ]
    },
    {
      "cell_type": "markdown",
      "metadata": {
        "id": "BNeOW_BfHOK_"
      },
      "source": [
        "## Create a Mounting Point in Local Machine"
      ]
    },
    {
      "cell_type": "markdown",
      "metadata": {
        "id": "WEKFOLCtHOLA"
      },
      "source": [
        "```\n",
        "$ mkdir ~/google-drive\n",
        "$ google-drive-ocamlfuse ~/google-drive\n",
        "```"
      ]
    },
    {
      "cell_type": "markdown",
      "metadata": {
        "id": "6qO-Giz5HOLA"
      },
      "source": [
        "## Mount and Unmount Drive"
      ]
    },
    {
      "cell_type": "markdown",
      "metadata": {
        "id": "gaH4X0PMHOLB"
      },
      "source": [
        "```\n",
        "fusermount -u ~/google-drive\n",
        "```"
      ]
    },
    {
      "cell_type": "markdown",
      "metadata": {
        "id": "gcvRJRhjHOLB"
      },
      "source": [
        "## Benefits"
      ]
    },
    {
      "cell_type": "markdown",
      "metadata": {
        "id": "Fp3drsGRHOLC"
      },
      "source": [
        "- To mount the Google Drive using ocamlfuse, it is easier to access the files and directories in the terminal.\n",
        "- Plus, all filenames and directory names show up properly!"
      ]
    },
    {
      "cell_type": "markdown",
      "metadata": {
        "id": "5ETK0ccXHOLC"
      },
      "source": [
        "## References"
      ]
    },
    {
      "cell_type": "markdown",
      "metadata": {
        "id": "2H3qpXVYHOLC"
      },
      "source": [
        "- [Mount google drive in linux using google-drive-ocamlfuse-client](https://www.tecmint.com/mount-google-drive-in-linux-using-google-drive-ocamlfuse-client/3/)"
      ]
    }
  ],
  "metadata": {
    "kernelspec": {
      "display_name": "python-notes",
      "language": "python",
      "name": "python-notes"
    },
    "language_info": {
      "codemirror_mode": {
        "name": "ipython",
        "version": 3
      },
      "file_extension": ".py",
      "mimetype": "text/x-python",
      "name": "python",
      "nbconvert_exporter": "python",
      "pygments_lexer": "ipython3",
      "version": "3.7.0"
    },
    "toc": {
      "base_numbering": 1,
      "nav_menu": {},
      "number_sections": false,
      "sideBar": true,
      "skip_h1_title": false,
      "title_cell": "Table of Contents",
      "title_sidebar": "Contents",
      "toc_cell": false,
      "toc_position": {},
      "toc_section_display": true,
      "toc_window_display": false
    },
    "varInspector": {
      "cols": {
        "lenName": 16,
        "lenType": 16,
        "lenVar": 40
      },
      "kernels_config": {
        "python": {
          "delete_cmd_postfix": "",
          "delete_cmd_prefix": "del ",
          "library": "var_list.py",
          "varRefreshCmd": "print(var_dic_list())"
        },
        "r": {
          "delete_cmd_postfix": ") ",
          "delete_cmd_prefix": "rm(",
          "library": "var_list.r",
          "varRefreshCmd": "cat(var_dic_list()) "
        }
      },
      "types_to_exclude": [
        "module",
        "function",
        "builtin_function_or_method",
        "instance",
        "_Feature"
      ],
      "window_display": false
    },
    "colab": {
      "provenance": [],
      "include_colab_link": true
    }
  },
  "nbformat": 4,
  "nbformat_minor": 0
}